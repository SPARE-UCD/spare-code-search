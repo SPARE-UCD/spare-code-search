{
 "cells": [
  {
   "cell_type": "code",
   "execution_count": 3,
   "id": "5d3da495",
   "metadata": {},
   "outputs": [],
   "source": [
    "import pandas as pd"
   ]
  },
  {
   "cell_type": "code",
   "execution_count": 4,
   "id": "3dd31077",
   "metadata": {},
   "outputs": [],
   "source": [
    "dataframe = pd.read_csv('./missed_query.csv')\n"
   ]
  },
  {
   "cell_type": "code",
   "execution_count": 7,
   "id": "a4e51505",
   "metadata": {},
   "outputs": [
    {
     "data": {
      "text/html": [
       "<div>\n",
       "<style scoped>\n",
       "    .dataframe tbody tr th:only-of-type {\n",
       "        vertical-align: middle;\n",
       "    }\n",
       "\n",
       "    .dataframe tbody tr th {\n",
       "        vertical-align: top;\n",
       "    }\n",
       "\n",
       "    .dataframe thead th {\n",
       "        text-align: right;\n",
       "    }\n",
       "</style>\n",
       "<table border=\"1\" class=\"dataframe\">\n",
       "  <thead>\n",
       "    <tr style=\"text-align: right;\">\n",
       "      <th></th>\n",
       "      <th>repo</th>\n",
       "      <th>revision</th>\n",
       "    </tr>\n",
       "  </thead>\n",
       "  <tbody>\n",
       "    <tr>\n",
       "      <th>0</th>\n",
       "      <td>DataBrewery/cubes</td>\n",
       "      <td>a2a6b00cb7886cdd710d5dbe8a76a04611c65e51</td>\n",
       "    </tr>\n",
       "    <tr>\n",
       "      <th>1</th>\n",
       "      <td>Pylons/pyramid</td>\n",
       "      <td>8fc21eb80a3c0fbe2ec4984636f86acab228d6b7</td>\n",
       "    </tr>\n",
       "    <tr>\n",
       "      <th>2</th>\n",
       "      <td>celery/celery</td>\n",
       "      <td>11732bd06e2332df395aeb79f8d764d59ef37a50</td>\n",
       "    </tr>\n",
       "    <tr>\n",
       "      <th>3</th>\n",
       "      <td>celery/celery</td>\n",
       "      <td>53e96fa6eebd23aee782c2e23aa91a525151f65e</td>\n",
       "    </tr>\n",
       "    <tr>\n",
       "      <th>4</th>\n",
       "      <td>etetoolkit/ete</td>\n",
       "      <td>af35775e058726be5c52da49d7cd40063d8e837a</td>\n",
       "    </tr>\n",
       "    <tr>\n",
       "      <th>5</th>\n",
       "      <td>gitpython-developers/GitPython</td>\n",
       "      <td>6f8ce8901e21587cd2320562df412e05b5ab1731</td>\n",
       "    </tr>\n",
       "    <tr>\n",
       "      <th>6</th>\n",
       "      <td>praw-dev/praw</td>\n",
       "      <td>933684d2847668731f75555eaa329b188b9ee4f6</td>\n",
       "    </tr>\n",
       "    <tr>\n",
       "      <th>7</th>\n",
       "      <td>praw-dev/praw</td>\n",
       "      <td>c79e7b98ae950957c7c2884951c66bb86d5e0e5f</td>\n",
       "    </tr>\n",
       "    <tr>\n",
       "      <th>8</th>\n",
       "      <td>quantmind/pulsar</td>\n",
       "      <td>0b85a9f016b26d47a70d659be7415ebca9002762</td>\n",
       "    </tr>\n",
       "    <tr>\n",
       "      <th>9</th>\n",
       "      <td>strawlab/flydra</td>\n",
       "      <td>1ccbee6082aa65569992b398de35a63045976262</td>\n",
       "    </tr>\n",
       "    <tr>\n",
       "      <th>10</th>\n",
       "      <td>streamlink/streamlink</td>\n",
       "      <td>8284578a0a85b11f54f0d7d066f1988b8cfb783c</td>\n",
       "    </tr>\n",
       "    <tr>\n",
       "      <th>11</th>\n",
       "      <td>streamlink/streamlink</td>\n",
       "      <td>ffa7db56eaa8ee4b349613eedff476ab311c809d</td>\n",
       "    </tr>\n",
       "    <tr>\n",
       "      <th>12</th>\n",
       "      <td>tchx84/Gameeky</td>\n",
       "      <td>c9245bb86336a3a863838500015bdbde724674c5</td>\n",
       "    </tr>\n",
       "  </tbody>\n",
       "</table>\n",
       "</div>"
      ],
      "text/plain": [
       "                              repo                                  revision\n",
       "0                DataBrewery/cubes  a2a6b00cb7886cdd710d5dbe8a76a04611c65e51\n",
       "1                   Pylons/pyramid  8fc21eb80a3c0fbe2ec4984636f86acab228d6b7\n",
       "2                    celery/celery  11732bd06e2332df395aeb79f8d764d59ef37a50\n",
       "3                    celery/celery  53e96fa6eebd23aee782c2e23aa91a525151f65e\n",
       "4                   etetoolkit/ete  af35775e058726be5c52da49d7cd40063d8e837a\n",
       "5   gitpython-developers/GitPython  6f8ce8901e21587cd2320562df412e05b5ab1731\n",
       "6                    praw-dev/praw  933684d2847668731f75555eaa329b188b9ee4f6\n",
       "7                    praw-dev/praw  c79e7b98ae950957c7c2884951c66bb86d5e0e5f\n",
       "8                 quantmind/pulsar  0b85a9f016b26d47a70d659be7415ebca9002762\n",
       "9                  strawlab/flydra  1ccbee6082aa65569992b398de35a63045976262\n",
       "10           streamlink/streamlink  8284578a0a85b11f54f0d7d066f1988b8cfb783c\n",
       "11           streamlink/streamlink  ffa7db56eaa8ee4b349613eedff476ab311c809d\n",
       "12                  tchx84/Gameeky  c9245bb86336a3a863838500015bdbde724674c5"
      ]
     },
     "execution_count": 7,
     "metadata": {},
     "output_type": "execute_result"
    }
   ],
   "source": [
    "dataframe[['repo', 'revision']] "
   ]
  },
  {
   "cell_type": "code",
   "execution_count": null,
   "id": "029876e5",
   "metadata": {},
   "outputs": [],
   "source": []
  }
 ],
 "metadata": {
  "kernelspec": {
   "display_name": "py311",
   "language": "python",
   "name": "python3"
  },
  "language_info": {
   "codemirror_mode": {
    "name": "ipython",
    "version": 3
   },
   "file_extension": ".py",
   "mimetype": "text/x-python",
   "name": "python",
   "nbconvert_exporter": "python",
   "pygments_lexer": "ipython3",
   "version": "3.11.11"
  }
 },
 "nbformat": 4,
 "nbformat_minor": 5
}
