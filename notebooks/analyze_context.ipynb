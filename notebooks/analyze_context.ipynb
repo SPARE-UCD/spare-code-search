{
 "cells": [
  {
   "cell_type": "code",
   "execution_count": 4,
   "id": "0de2f01d",
   "metadata": {},
   "outputs": [],
   "source": [
    "import json\n",
    "import pandas as pd\n",
    "from tree_sitter_languages import get_language, get_parser"
   ]
  },
  {
   "cell_type": "code",
   "execution_count": null,
   "id": "64d0fdb7",
   "metadata": {},
   "outputs": [],
   "source": [
    "def remove_import_nodes(code, language_name):\n",
    "    \"\"\"\n",
    "    Remove import nodes from the code by splitlines()\n",
    "    and reconstruct the code without import statements.\n",
    "    \"\"\"\n",
    "    lines = code.splitlines()\n",
    "    file_name = lines[0]\n",
    "    original_code = \"\\n\".join(lines[1:])\n",
    "    language = get_language(language_name)\n",
    "    parser = get_parser(language_name)\n",
    "    tree = parser.parse(bytes(original_code, \"utf8\"))\n",
    "    root_node = tree.root_node\n",
    "    query_string = \"(import_list) @import\\n(import_header) @import\"\n",
    "    query = language.query(query_string)\n",
    "    matches = query.captures(root_node)\n",
    "    start_bytes = [match[0].start_byte for match in matches]\n",
    "    end_bytes = [match[0].end_byte for match in matches]\n",
    "    new_code = \"\"\n",
    "    for start_byte, end_byte in zip(start_bytes, end_bytes):\n",
    "        new_code = original_code[start_byte:] + original_code[end_byte:]\n",
    "    cleaned_code = f\"{file_name}\\n{new_code}\"\n",
    "    cleaned_code = cleaned_code.replace(\"\\n\\n\", \"\\n\").strip()\n",
    "    return cleaned_code"
   ]
  },
  {
   "cell_type": "code",
   "execution_count": 57,
   "id": "ccbcc005",
   "metadata": {},
   "outputs": [
    {
     "data": {
      "text/plain": [
       "'import kotlin.io.ansk'"
      ]
     },
     "execution_count": 57,
     "metadata": {},
     "output_type": "execute_result"
    }
   ],
   "source": [
    "remove_import_nodes(\"import kotlin.io.ansk\\nfun main() {\\n    println(\\\"Hello, World!\\\")\\n}\", \"kotlin\")"
   ]
  },
  {
   "cell_type": "code",
   "execution_count": 50,
   "id": "2058cce2",
   "metadata": {},
   "outputs": [],
   "source": [
    "file_separator = \"<|file_sep|>\"\n",
    "\n",
    "cleaned_context = dataframe['context'].apply(lambda x: file_separator.join([remove_import_nodes(y, 'kotlin') for y in x.split(file_separator)]))\n"
   ]
  },
  {
   "cell_type": "code",
   "execution_count": null,
   "id": "2dcbf50b",
   "metadata": {},
   "outputs": [],
   "source": []
  },
  {
   "cell_type": "code",
   "execution_count": 41,
   "id": "1e92c4d3",
   "metadata": {},
   "outputs": [],
   "source": [
    "with open(\"../predictions/kotlin_public_context-heuristic-max-file-3-cleaned.jsonl\", 'w') as f:\n",
    "    for index, row in dataframe.iterrows():\n",
    "        f.write(json.dumps({\n",
    "\n",
    "            \"context\": cleaned_context[index], \"prefix\": row['prefix'], \"suffix\": row['suffix'],\n",
    "        }) + \"\\n\")"
   ]
  },
  {
   "cell_type": "code",
   "execution_count": 42,
   "id": "44fc10d5",
   "metadata": {},
   "outputs": [
    {
     "data": {
      "text/plain": [
       "'{\"context\": \"\\n{\"context\": \"<|file_sep|>app/src/main/java/org/koitharu/kotatsu/shikimori/data/ShikimoriRepository.kt\\\\npackage org.koitharu.kotatsu.shikimori.data\\\\n\\\\nimport okhttp3.FormBody\\\\nimport okhttp3.HttpUrl.Companion.toHttpUrl\\\\nimport okhttp3.OkHttpClient\\\\nimport okhttp3.Request\\\\nimport org.koitharu.kotatsu.parsers.model.Manga\\\\nimport org.koitharu.kotatsu.parsers.util.await\\\\nimport org.koitharu.kotatsu.parsers.util.json.mapJSON\\\\nimport org.koitharu.kotatsu.parsers.util.parseJson\\\\nimport org.koitharu.kotatsu.parsers.util.parseJsonArray\\\\nimport org.koitharu.kotatsu.parsers.util.urlEncoded\\\\nimport org.koitharu.kotatsu.shikimori.data.model.ShikimoriManga\\\\nimport org.koitharu.kotatsu.shikimori.data.model.ShikimoriMangaInfo\\\\nimport org.koitharu.kotatsu.shikimori.data.model.ShikimoriUser\\\\n\\\\nprivate const val CLIENT_ID = \\\\\"Mw6F0tPEOgyV7F9U9Twg50Q8SndMY7hzIOfXg0AX_XU\\\\\"\\\\nprivate const val CLIENT_SECRET = \\\\\"euBMt1GGRSDpVIFQVPxZrO7Kh6X4gWyv0dABuj4B-M8\\\\\"\\\\nprivate const val REDIRECT_URI = \\\\\"kotatsu://shikimori-auth\\\\\"\\\\nprivate const val BASE_URL = \\\\\"https://shikimori.one/api/\\\\\"\\\\nprivate const val MANGA_PAGE_SIZE = 10\\\\n\\\\nclass ShikimoriRepository(\\\\n\\\\tprivate val okHttp: OkHttpClient,\\\\n\\\\tprivate val storage: ShikimoriStorage,\\\\n) {\\\\n\\\\n\\\\tval oauthUrl: String\\\\n\\\\t\\\\tget() = \\\\\"https://shikimori.one/oauth/authorize?client_id=$CLIENT_ID&\\\\\" +\\\\n\\\\t\\\\t\\\\t\\\\\"redirect_uri=$REDIRECT_URI&response_type=code&scope=\\\\\"\\\\n\\\\n\\\\tval isAuthorized: Boolean\\\\n\\\\t\\\\tget() = storage.accessToken != null\\\\n\\\\n\\\\tsuspend fun authorize(code: String?) {\\\\n\\\\t\\\\tval body = FormBody.Builder()\\\\n\\\\t\\\\tbody.add(\\\\\"grant_type\\\\\", \\\\\"authorization_code\\\\\")\\\\n\\\\t\\\\tbody.add(\\\\\"client_id\\\\\", CLIENT_ID)\\\\n\\\\t\\\\tbody.add(\\\\\"client_secret\\\\\", CLIENT_SECRET)\\\\n\\\\t\\\\tif (code != null) {\\\\n\\\\t\\\\t\\\\tbody.add(\\\\\"redirect_uri\\\\\", REDIRECT_URI)\\\\n\\\\t\\\\t\\\\tbody.add(\\\\\"code\\\\\", code)\\\\n\\\\t\\\\t} else {\\\\n\\\\t\\\\t\\\\tbody.add(\\\\\"refresh_token\\\\\", checkNotNull(storage.refreshToken))\\\\n\\\\t\\\\t}\\\\n\\\\t\\\\tval request = Request.Builder()\\\\n\\\\t\\\\t\\\\t.post(body.build())\\\\n\\\\t\\\\t\\\\t.url(\\\\\"https://shikimori.one/oauth/token\\\\\")\\\\n\\\\t\\\\tval response = okHttp.newCall(request.build()).await().parseJson()\\\\n\\\\t\\\\tstorage.accessToken = response.getString(\\\\\"access_token\\\\\")\\\\n\\\\t\\\\tstorage.refreshToken = response.getString(\\\\\"refresh_token\\\\\")\\\\n\\\\t}\\\\n\\\\n\\\\tsuspend fun getUser(): ShikimoriUser {\\\\n\\\\t\\\\tval request = Request.Builder()\\\\n\\\\t\\\\t\\\\t.get()\\\\n\\\\t\\\\t\\\\t.url(\\\\\"https://shikimori.one/api/users/whoami\\\\\")\\\\n\\\\t\\\\tval response = okHttp.newCall(request.build()).await().parseJson()\\\\n\\\\t\\\\treturn ShikimoriUser(response)\\\\n\\\\t}\\\\n\\\\n\\\\tsuspend fun findManga(query: String, offset: Int): List<ShikimoriManga> {\\\\n\\\\t\\\\tval page = offset / MANGA_PAGE_SIZE\\\\n\\\\t\\\\tval pageOffset = offset % MANGA_PAGE_SIZE\\\\n\\\\t\\\\tval url = BASE_URL.toHttpUrl().newBuilder()\\\\n\\\\t\\\\t\\\\t.addPathSegment(\\\\\"mangas\\\\\")\\\\n\\\\t\\\\t\\\\t.addEncodedQueryParameter(\\\\\"page\\\\\", (page + 1).toString())\\\\n\\\\t\\\\t\\\\t.addEncodedQueryParameter(\\\\\"limit\\\\\", MANGA_PAGE_SIZE.toString())\\\\n\\\\t\\\\t\\\\t.addEncodedQueryParameter(\\\\\"censored\\\\\", false.toString())\\\\n\\\\t\\\\t\\\\t.addQueryParameter(\\\\\"search\\\\\", query)\\\\n\\\\t\\\\t\\\\t.build()\\\\n\\\\t\\\\tval request = Request.Builder().url(url).get().build()\\\\n\\\\t\\\\tval response = okHttp.newCall(request).await().parseJsonArray()\\\\n\\\\t\\\\tval list = response.mapJSON { ShikimoriManga(it) }\\\\n\\\\t\\\\treturn if (pageOffset != 0) list.drop(pageOffset) else list\\\\n\\\\t}\\\\n\\\\n\\\\tsuspend fun findMangaInfo(manga: Manga): ShikimoriMangaInfo? {\\\\n\\\\t\\\\tval q = manga.title.urlEncoded()\\\\n\\\\t\\\\tval request = Request.Builder()\\\\n\\\\t\\\\t\\\\t.get()\\\\n\\\\t\\\\t\\\\t.url(\\\\\"https://shikimori.one/api/mangas?limit=5&search=$q&censored=false\\\\\")\\\\n\\\\t\\\\tval response = okHttp.newCall(request.build()).await().parseJsonArray()\\\\n\\\\t\\\\tval candidates = response.mapJSON { ShikimoriManga(it) }\\\\n\\\\t\\\\tval bestCandidate = candidates.filter {\\\\n\\\\t\\\\t\\\\tit.name.equals(manga.title, ignoreCase = true) || it.name.equals(manga.altTitle, ignoreCase = true)\\\\n\\\\t\\\\t}.singleOrNull() ?: return null\\\\n\\\\t\\\\treturn getMangaInfo(bestCandidate.id)\\\\n\\\\t}\\\\n\\\\n\\\\tsuspend fun getRelatedManga(id: Long): List<ShikimoriManga> {\\\\n\\\\t\\\\tval request = Request.Builder()\\\\n\\\\t\\\\t\\\\t.get()\\\\n\\\\t\\\\t\\\\t.url(\\\\\"https://shikimori.one/api/mangas/$id/related\\\\\")\\\\n\\\\t\\\\tval response = okHttp.newCall(request.build()).await().parseJsonArray()\\\\n\\\\t\\\\treturn response.mapJSON { jo -> ShikimoriManga(jo) }\\\\n\\\\t}\\\\n\\\\n\\\\tsuspend fun getSimilarManga(id: Long): List<ShikimoriManga> {\\\\n\\\\t\\\\tval request = Request.Builder()\\\\n\\\\t\\\\t\\\\t.get()\\\\n\\\\t\\\\t\\\\t.url(\\\\\"https://shikimori.one/api/mangas/$id/similar\\\\\")\\\\n\\\\t\\\\tval response = okHttp.newCall(request.build()).await().parseJsonArray()\\\\n\\\\t\\\\treturn response.mapJSON { jo -> ShikimoriManga(jo) }\\\\n\\\\t}\\\\n\\\\n\\\\tsuspend fun getMangaInfo(id: Long): ShikimoriMangaInfo {\\\\n\\\\t\\\\tval request = Request.Builder()\\\\n\\\\t\\\\t\\\\t.get()\\\\n\\\\t\\\\t\\\\t.url(\\\\\"https://shikimori.one/api/mangas/$id\\\\\")\\\\n\\\\t\\\\tval response = okHttp.newCall(request.build()).await().parseJson()\\\\n\\\\t\\\\treturn ShikimoriMangaInfo(response)\\\\n\\\\t}\\\\n}\", \"prefix\": \"\\\\n\\\\n\\\\tsuspend fun findMangaInfo(manga: Manga): ShikimoriMangaInfo? {\\\\n\\\\t\\\\tval q = manga.title.urlEncoded()\\\\n\\\\t\\\\tval request = Request.Builder()\\\\n\\\\t\\\\t\\\\t.get()\\\\n\\\\t\\\\t\\\\t.url(\\\\\"https://shikimori.one/api/mangas?limit=20&search=$q&censored=false\\\\\")\\\\n\\\\t\\\\tval response = okHttp.newCall(request.build()).await().parseJsonArray()\\\\n\\\\t\\\\tval candidates = response.mapJSON { ShikimoriManga(it) }\\\\n\\\\t\\\\tval bestCandidate = candidates.minByOrNull {\\\\n\\\\t\\\\t\\\\tit.name.levenshteinDistance(manga.title)\\\\n\\\\t\\\\t} ?: return null\\\\n\\\\t\\\\treturn getMangaInfo(bestCandidate.id)\\\\n\\\\t}\\\\n\\\\n\\\\tsuspend fun getRelatedManga(id: Long):\", \"suffix\": \"\\\\n\\\\tsuspend fun getSimilarManga(id: Long): List<ShikimoriManga> {\\\\n\\\\t\\\\tval request = Request.Builder()\\\\n\\\\t\\\\t\\\\t.get()\\\\n\\\\t\\\\t\\\\t.url(\\\\\"https://shikimori.one/api/mangas/$id/similar\\\\\")\\\\n\\\\t\\\\tval response = okHttp.newCall(request.build()).await().parseJsonArray()\\\\n\\\\t\\\\treturn response.mapJSON { jo -> ShikimoriManga(jo) }\\\\n\\\\t}\\\\n\\\\n\\\\tsuspend fun getMangaInfo(id: Long): ShikimoriMangaInfo {\\\\n\\\\t\\\\tval request = Request.Builder()\\\\n\\\\t\\\\t\\\\t.get()\\\\n\\\\t\\\\t\\\\t.url(\\\\\"https://shikimori.one/api/mangas/$id\\\\\")\\\\n\\\\t\\\\tval response = okHttp.newCall(request.build()).await().parseJson()\\\\n\\\\t\\\\treturn ShikimoriMangaInfo(response)\\\\n\\\\t}\"}\\napp/src/main/java/org/koitharu/kotatsu/shikimori/data/ShikimoriRepository.kt\\\\npackage org.koitharu.kotatsu.shikimori.data\\\\n\\\\nimport okhttp3.FormBody\\\\nimport okhttp3.HttpUrl.Companion.toHttpUrl\\\\nimport okhttp3.OkHttpClient\\\\nimport okhttp3.Request\\\\nimport org.koitharu.kotatsu.parsers.model.Manga\\\\nimport org.koitharu.kotatsu.parsers.util.await\\\\nimport org.koitharu.kotatsu.parsers.util.json.mapJSON\\\\nimport org.koitharu.kotatsu.parsers.util.parseJson\\\\nimport org.koitharu.kotatsu.parsers.util.parseJsonArray\\\\nimport org.koitharu.kotatsu.parsers.util.urlEncoded\\\\nimport org.koitharu.kotatsu.shikimori.data.model.ShikimoriManga\\\\nimport org.koitharu.kotatsu.shikimori.data.model.ShikimoriMangaInfo\\\\nimport org.koitharu.kotatsu.shikimori.data.model.ShikimoriUser\\\\n\\\\nprivate const val CLIENT_ID = \\\\\"Mw6F0tPEOgyV7F9U9Twg50Q8SndMY7hzIOfXg0AX_XU\\\\\"\\\\nprivate const val CLIENT_SECRET = \\\\\"euBMt1GGRSDpVIFQVPxZrO7Kh6X4gWyv0dABuj4B-M8\\\\\"\\\\nprivate const val REDIRECT_URI = \\\\\"kotatsu://shikimori-auth\\\\\"\\\\nprivate const val BASE_URL = \\\\\"https://shikimori.one/api/\\\\\"\\\\nprivate const val MANGA_PAGE_SIZE = 10\\\\n\\\\nclass ShikimoriRepository(\\\\n\\\\tprivate val okHttp: OkHttpClient,\\\\n\\\\tprivate val storage: ShikimoriStorage,\\\\n) {\\\\n\\\\n\\\\tval oauthUrl: String\\\\n\\\\t\\\\tget() = \\\\\"https://shikimori.one/oauth/authorize?client_id=$CLIENT_ID&\\\\\" +\\\\n\\\\t\\\\t\\\\t\\\\\"redirect_uri=$REDIRECT_URI&response_type=code&scope=\\\\\"\\\\n\\\\n\\\\tval isAuthorized: Boolean\\\\n\\\\t\\\\tget() = storage.accessToken != null\\\\n\\\\n\\\\tsuspend fun authorize(code: String?) {\\\\n\\\\t\\\\tval body = FormBody.Builder()\\\\n\\\\t\\\\tbody.add(\\\\\"grant_type\\\\\", \\\\\"authorization_code\\\\\")\\\\n\\\\t\\\\tbody.add(\\\\\"client_id\\\\\", CLIENT_ID)\\\\n\\\\t\\\\tbody.add(\\\\\"client_secret\\\\\", CLIENT_SECRET)\\\\n\\\\t\\\\tif (code != null) {\\\\n\\\\t\\\\t\\\\tbody.add(\\\\\"redirect_uri\\\\\", REDIRECT_URI)\\\\n\\\\t\\\\t\\\\tbody.add(\\\\\"code\\\\\", code)\\\\n\\\\t\\\\t} else {\\\\n\\\\t\\\\t\\\\tbody.add(\\\\\"refresh_token\\\\\", checkNotNull(storage.refreshToken))\\\\n\\\\t\\\\t}\\\\n\\\\t\\\\tval request = Request.Builder()\\\\n\\\\t\\\\t\\\\t.post(body.build())\\\\n\\\\t\\\\t\\\\t.url(\\\\\"https://shikimori.one/oauth/token\\\\\")\\\\n\\\\t\\\\tval response = okHttp.newCall(request.build()).await().parseJson()\\\\n\\\\t\\\\tstorage.accessToken = response.getString(\\\\\"access_token\\\\\")\\\\n\\\\t\\\\tstorage.refreshToken = response.getString(\\\\\"refresh_token\\\\\")\\\\n\\\\t}\\\\n\\\\n\\\\tsuspend fun getUser(): ShikimoriUser {\\\\n\\\\t\\\\tval request = Request.Builder()\\\\n\\\\t\\\\t\\\\t.get()\\\\n\\\\t\\\\t\\\\t.url(\\\\\"https://shikimori.one/api/users/whoami\\\\\")\\\\n\\\\t\\\\tval response = okHttp.newCall(request.build()).await().parseJson()\\\\n\\\\t\\\\treturn ShikimoriUser(response)\\\\n\\\\t}\\\\n\\\\n\\\\tsuspend fun findManga(query: String, offset: Int): List<ShikimoriManga> {\\\\n\\\\t\\\\tval page = offset / MANGA_PAGE_SIZE\\\\n\\\\t\\\\tval pageOffset = offset % MANGA_PAGE_SIZE\\\\n\\\\t\\\\tval url = BASE_URL.toHttpUrl().newBuilder()\\\\n\\\\t\\\\t\\\\t.addPathSegment(\\\\\"mangas\\\\\")\\\\n\\\\t\\\\t\\\\t.addEncodedQueryParameter(\\\\\"page\\\\\", (page + 1).toString())\\\\n\\\\t\\\\t\\\\t.addEncodedQueryParameter(\\\\\"limit\\\\\", MANGA_PAGE_SIZE.toString())\\\\n\\\\t\\\\t\\\\t.addEncodedQueryParameter(\\\\\"censored\\\\\", false.toString())\\\\n\\\\t\\\\t\\\\t.addQueryParameter(\\\\\"search\\\\\", query)\\\\n\\\\t\\\\t\\\\t.build()\\\\n\\\\t\\\\tval request = Request.Builder().url(url).get().build()\\\\n\\\\t\\\\tval response = okHttp.newCall(request).await().parseJsonArray()\\\\n\\\\t\\\\tval list = response.mapJSON { ShikimoriManga(it) }\\\\n\\\\t\\\\treturn if (pageOffset != 0) list.drop(pageOffset) else list\\\\n\\\\t}\\\\n\\\\n\\\\tsuspend fun findMangaInfo(manga: Manga): ShikimoriMangaInfo? {\\\\n\\\\t\\\\tval q = manga.title.urlEncoded()\\\\n\\\\t\\\\tval request = Request.Builder()\\\\n\\\\t\\\\t\\\\t.get()\\\\n\\\\t\\\\t\\\\t.url(\\\\\"https://shikimori.one/api/mangas?limit=5&search=$q&censored=false\\\\\")\\\\n\\\\t\\\\tval response = okHttp.newCall(request.build()).await().parseJsonArray()\\\\n\\\\t\\\\tval candidates = response.mapJSON { ShikimoriManga(it) }\\\\n\\\\t\\\\tval bestCandidate = candidates.filter {\\\\n\\\\t\\\\t\\\\tit.name.equals(manga.title, ignoreCase = true) || it.name.equals(manga.altTitle, ignoreCase = true)\\\\n\\\\t\\\\t}.singleOrNull() ?: return null\\\\n\\\\t\\\\treturn getMangaInfo(bestCandidate.id)\\\\n\\\\t}\\\\n\\\\n\\\\tsuspend fun getRelatedManga(id: Long): List<ShikimoriManga> {\\\\n\\\\t\\\\tval request = Request.Builder()\\\\n\\\\t\\\\t\\\\t.get()\\\\n\\\\t\\\\t\\\\t.url(\\\\\"https://shikimori.one/api/mangas/$id/related\\\\\")\\\\n\\\\t\\\\tval response = okHttp.newCall(request.build()).await().parseJsonArray()\\\\n\\\\t\\\\treturn response.mapJSON { jo -> ShikimoriManga(jo) }\\\\n\\\\t}\\\\n\\\\n\\\\tsuspend fun getSimilarManga(id: Long): List<ShikimoriManga> {\\\\n\\\\t\\\\tval request = Request.Builder()\\\\n\\\\t\\\\t\\\\t.get()\\\\n\\\\t\\\\t\\\\t.url(\\\\\"https://shikimori.one/api/mangas/$id/similar\\\\\")\\\\n\\\\t\\\\tval response = okHttp.newCall(request.build()).await().parseJsonArray()\\\\n\\\\t\\\\treturn response.mapJSON { jo -> ShikimoriManga(jo) }\\\\n\\\\t}\\\\n\\\\n\\\\tsuspend fun getMangaInfo(id: Long): ShikimoriMangaInfo {\\\\n\\\\t\\\\tval request = Request.Builder()\\\\n\\\\t\\\\t\\\\t.get()\\\\n\\\\t\\\\t\\\\t.url(\\\\\"https://shikimori.one/api/mangas/$id\\\\\")\\\\n\\\\t\\\\tval response = okHttp.newCall(request.build()).await().parseJson()\\\\n\\\\t\\\\treturn ShikimoriMangaInfo(response)\\\\n\\\\t}\\\\n}\", \"prefix\": \"\\\\n\\\\n\\\\tsuspend fun findMangaInfo(manga: Manga): ShikimoriMangaInfo? {\\\\n\\\\t\\\\tval q = manga.title.urlEncoded()\\\\n\\\\t\\\\tval request = Request.Builder()\\\\n\\\\t\\\\t\\\\t.get()\\\\n\\\\t\\\\t\\\\t.url(\\\\\"https://shikimori.one/api/mangas?limit=20&search=$q&censored=false\\\\\")\\\\n\\\\t\\\\tval response = okHttp.newCall(request.build()).await().parseJsonArray()\\\\n\\\\t\\\\tval candidates = response.mapJSON { ShikimoriManga(it) }\\\\n\\\\t\\\\tval bestCandidate = candidates.minByOrNull {\\\\n\\\\t\\\\t\\\\tit.name.levenshteinDistance(manga.title)\\\\n\\\\t\\\\t} ?: return null\\\\n\\\\t\\\\treturn getMangaInfo(bestCandidate.id)\\\\n\\\\t}\\\\n\\\\n\\\\tsuspend fun getRelatedManga(id: Long):\", \"suffix\": \"\\\\n\\\\tsuspend fun getSimilarManga(id: Long): List<ShikimoriManga> {\\\\n\\\\t\\\\tval request = Request.Builder()\\\\n\\\\t\\\\t\\\\t.get()\\\\n\\\\t\\\\t\\\\t.url(\\\\\"https://shikimori.one/api/mangas/$id/similar\\\\\")\\\\n\\\\t\\\\tval response = okHttp.newCall(request.build()).await().parseJsonArray()\\\\n\\\\t\\\\treturn response.mapJSON { jo -> ShikimoriManga(jo) }\\\\n\\\\t}\\\\n\\\\n\\\\tsuspend fun getMangaInfo(id: Long): ShikimoriMangaInfo {\\\\n\\\\t\\\\tval request = Request.Builder()\\\\n\\\\t\\\\t\\\\t.get()\\\\n\\\\t\\\\t\\\\t.url(\\\\\"https://shikimori.one/api/mangas/$id\\\\\")\\\\n\\\\t\\\\tval response = okHttp.newCall(request.build()).await().parseJson()\\\\n\\\\t\\\\treturn ShikimoriMangaInfo(response)\\\\n\\\\t}\"}'"
      ]
     },
     "execution_count": 42,
     "metadata": {},
     "output_type": "execute_result"
    }
   ],
   "source": [
    "cleaned_context[12]"
   ]
  },
  {
   "cell_type": "code",
   "execution_count": null,
   "id": "cf376359",
   "metadata": {},
   "outputs": [],
   "source": []
  }
 ],
 "metadata": {
  "kernelspec": {
   "display_name": "py311",
   "language": "python",
   "name": "python3"
  },
  "language_info": {
   "codemirror_mode": {
    "name": "ipython",
    "version": 3
   },
   "file_extension": ".py",
   "mimetype": "text/x-python",
   "name": "python",
   "nbconvert_exporter": "python",
   "pygments_lexer": "ipython3",
   "version": "3.11.11"
  }
 },
 "nbformat": 4,
 "nbformat_minor": 5
}
